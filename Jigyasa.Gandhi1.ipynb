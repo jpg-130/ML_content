{
 "cells": [
  {
   "cell_type": "markdown",
   "metadata": {},
   "source": [
    " # Jigyasa Gandhi - jigsgandhi97@gmail.com - 60004160027"
   ]
  },
  {
   "cell_type": "markdown",
   "metadata": {},
   "source": [
    "### Importing data"
   ]
  },
  {
   "cell_type": "code",
   "execution_count": 1,
   "metadata": {},
   "outputs": [],
   "source": [
    "# import required libraries\n",
    "import numpy as np\n",
    "import pandas as pd\n",
    "import matplotlib.pyplot as plt\n",
    "import seaborn as sns\n",
    "\n",
    "# plot stylings\n",
    "plt.style.use('fivethirtyeight')\n",
    "%matplotlib inline\n",
    "\n",
    "# do not display warnings in notebook \n",
    "import warnings\n",
    "warnings.filterwarnings('ignore')"
   ]
  },
  {
   "cell_type": "code",
   "execution_count": 2,
   "metadata": {},
   "outputs": [],
   "source": [
    "# read dataset\n",
    "dataset = pd.read_csv('../predict-voting-outcomes/train.csv')\n",
    "validation=pd.read_csv('../predict-voting-outcomes/train.csv')\n",
    "# X = dataset.iloc[:, :-1].values\n",
    "# y = dataset.iloc[:, 1].values\n",
    "labels=list(dataset.columns[1:].values)"
   ]
  },
  {
   "cell_type": "code",
   "execution_count": 3,
   "metadata": {},
   "outputs": [
    {
     "data": {
      "text/html": [
       "<div>\n",
       "<style scoped>\n",
       "    .dataframe tbody tr th:only-of-type {\n",
       "        vertical-align: middle;\n",
       "    }\n",
       "\n",
       "    .dataframe tbody tr th {\n",
       "        vertical-align: top;\n",
       "    }\n",
       "\n",
       "    .dataframe thead th {\n",
       "        text-align: right;\n",
       "    }\n",
       "</style>\n",
       "<table border=\"1\" class=\"dataframe\">\n",
       "  <thead>\n",
       "    <tr style=\"text-align: right;\">\n",
       "      <th></th>\n",
       "      <th>Unnamed: 0</th>\n",
       "      <th>USER_ID</th>\n",
       "      <th>YOB</th>\n",
       "      <th>Gender</th>\n",
       "      <th>Income</th>\n",
       "      <th>HouseholdStatus</th>\n",
       "      <th>EducationLevel</th>\n",
       "      <th>Q124742</th>\n",
       "      <th>Q124122</th>\n",
       "      <th>Q123464</th>\n",
       "      <th>...</th>\n",
       "      <th>Q99716</th>\n",
       "      <th>Q99581</th>\n",
       "      <th>Q99480</th>\n",
       "      <th>Q98869</th>\n",
       "      <th>Q98578</th>\n",
       "      <th>Q98059</th>\n",
       "      <th>Q98078</th>\n",
       "      <th>Q98197</th>\n",
       "      <th>Q96024</th>\n",
       "      <th>Party</th>\n",
       "    </tr>\n",
       "  </thead>\n",
       "  <tbody>\n",
       "    <tr>\n",
       "      <th>0</th>\n",
       "      <td>1044</td>\n",
       "      <td>1295</td>\n",
       "      <td>1971.0</td>\n",
       "      <td>Female</td>\n",
       "      <td>$100,001 - $150,000</td>\n",
       "      <td>Married (w/kids)</td>\n",
       "      <td>Bachelor's Degree</td>\n",
       "      <td>NaN</td>\n",
       "      <td>Yes</td>\n",
       "      <td>No</td>\n",
       "      <td>...</td>\n",
       "      <td>No</td>\n",
       "      <td>No</td>\n",
       "      <td>Yes</td>\n",
       "      <td>No</td>\n",
       "      <td>No</td>\n",
       "      <td>Yes</td>\n",
       "      <td>No</td>\n",
       "      <td>No</td>\n",
       "      <td>Yes</td>\n",
       "      <td>Democrat</td>\n",
       "    </tr>\n",
       "    <tr>\n",
       "      <th>1</th>\n",
       "      <td>2671</td>\n",
       "      <td>3324</td>\n",
       "      <td>1981.0</td>\n",
       "      <td>Female</td>\n",
       "      <td>$25,001 - $50,000</td>\n",
       "      <td>Married (w/kids)</td>\n",
       "      <td>Associate's Degree</td>\n",
       "      <td>NaN</td>\n",
       "      <td>NaN</td>\n",
       "      <td>NaN</td>\n",
       "      <td>...</td>\n",
       "      <td>No</td>\n",
       "      <td>No</td>\n",
       "      <td>Yes</td>\n",
       "      <td>NaN</td>\n",
       "      <td>No</td>\n",
       "      <td>Yes</td>\n",
       "      <td>NaN</td>\n",
       "      <td>Yes</td>\n",
       "      <td>No</td>\n",
       "      <td>Republican</td>\n",
       "    </tr>\n",
       "    <tr>\n",
       "      <th>2</th>\n",
       "      <td>5549</td>\n",
       "      <td>6939</td>\n",
       "      <td>1999.0</td>\n",
       "      <td>Female</td>\n",
       "      <td>NaN</td>\n",
       "      <td>Single (no kids)</td>\n",
       "      <td>Current K-12</td>\n",
       "      <td>NaN</td>\n",
       "      <td>NaN</td>\n",
       "      <td>NaN</td>\n",
       "      <td>...</td>\n",
       "      <td>NaN</td>\n",
       "      <td>NaN</td>\n",
       "      <td>NaN</td>\n",
       "      <td>NaN</td>\n",
       "      <td>NaN</td>\n",
       "      <td>NaN</td>\n",
       "      <td>NaN</td>\n",
       "      <td>NaN</td>\n",
       "      <td>NaN</td>\n",
       "      <td>Democrat</td>\n",
       "    </tr>\n",
       "    <tr>\n",
       "      <th>3</th>\n",
       "      <td>1231</td>\n",
       "      <td>1525</td>\n",
       "      <td>1997.0</td>\n",
       "      <td>Male</td>\n",
       "      <td>$75,000 - $100,000</td>\n",
       "      <td>Single (no kids)</td>\n",
       "      <td>Current K-12</td>\n",
       "      <td>NaN</td>\n",
       "      <td>NaN</td>\n",
       "      <td>NaN</td>\n",
       "      <td>...</td>\n",
       "      <td>No</td>\n",
       "      <td>Yes</td>\n",
       "      <td>No</td>\n",
       "      <td>No</td>\n",
       "      <td>No</td>\n",
       "      <td>Only-child</td>\n",
       "      <td>No</td>\n",
       "      <td>No</td>\n",
       "      <td>Yes</td>\n",
       "      <td>Democrat</td>\n",
       "    </tr>\n",
       "    <tr>\n",
       "      <th>4</th>\n",
       "      <td>2685</td>\n",
       "      <td>3341</td>\n",
       "      <td>1977.0</td>\n",
       "      <td>Male</td>\n",
       "      <td>over $150,000</td>\n",
       "      <td>Married (w/kids)</td>\n",
       "      <td>Doctoral Degree</td>\n",
       "      <td>No</td>\n",
       "      <td>No</td>\n",
       "      <td>No</td>\n",
       "      <td>...</td>\n",
       "      <td>No</td>\n",
       "      <td>No</td>\n",
       "      <td>Yes</td>\n",
       "      <td>Yes</td>\n",
       "      <td>No</td>\n",
       "      <td>Yes</td>\n",
       "      <td>Yes</td>\n",
       "      <td>No</td>\n",
       "      <td>Yes</td>\n",
       "      <td>Democrat</td>\n",
       "    </tr>\n",
       "  </tbody>\n",
       "</table>\n",
       "<p>5 rows × 109 columns</p>\n",
       "</div>"
      ],
      "text/plain": [
       "   Unnamed: 0  USER_ID     YOB  Gender               Income   HouseholdStatus  \\\n",
       "0        1044     1295  1971.0  Female  $100,001 - $150,000  Married (w/kids)   \n",
       "1        2671     3324  1981.0  Female    $25,001 - $50,000  Married (w/kids)   \n",
       "2        5549     6939  1999.0  Female                  NaN  Single (no kids)   \n",
       "3        1231     1525  1997.0    Male   $75,000 - $100,000  Single (no kids)   \n",
       "4        2685     3341  1977.0    Male        over $150,000  Married (w/kids)   \n",
       "\n",
       "       EducationLevel Q124742 Q124122 Q123464     ...     Q99716 Q99581  \\\n",
       "0   Bachelor's Degree     NaN     Yes      No     ...         No     No   \n",
       "1  Associate's Degree     NaN     NaN     NaN     ...         No     No   \n",
       "2        Current K-12     NaN     NaN     NaN     ...        NaN    NaN   \n",
       "3        Current K-12     NaN     NaN     NaN     ...         No    Yes   \n",
       "4     Doctoral Degree      No      No      No     ...         No     No   \n",
       "\n",
       "  Q99480 Q98869 Q98578      Q98059 Q98078 Q98197 Q96024       Party  \n",
       "0    Yes     No     No         Yes     No     No    Yes    Democrat  \n",
       "1    Yes    NaN     No         Yes    NaN    Yes     No  Republican  \n",
       "2    NaN    NaN    NaN         NaN    NaN    NaN    NaN    Democrat  \n",
       "3     No     No     No  Only-child     No     No    Yes    Democrat  \n",
       "4    Yes    Yes     No         Yes    Yes     No    Yes    Democrat  \n",
       "\n",
       "[5 rows x 109 columns]"
      ]
     },
     "execution_count": 3,
     "metadata": {},
     "output_type": "execute_result"
    }
   ],
   "source": [
    "# display the first rows in the dataset\n",
    "dataset.head()"
   ]
  },
  {
   "cell_type": "code",
   "execution_count": 4,
   "metadata": {},
   "outputs": [
    {
     "data": {
      "text/plain": [
       "(4732, 109)"
      ]
     },
     "execution_count": 4,
     "metadata": {},
     "output_type": "execute_result"
    }
   ],
   "source": [
    "# get the shape of the datasetframe\n",
    "dataset.shape\n",
    "validation.shape"
   ]
  },
  {
   "cell_type": "code",
   "execution_count": 5,
   "metadata": {},
   "outputs": [],
   "source": [
    "dataset=pd.DataFrame(dataset.iloc[:,1:].values,columns=labels)\n",
    "validation=pd.DataFrame(validation.iloc[:,1:].values,columns=labels)\n"
   ]
  },
  {
   "cell_type": "code",
   "execution_count": 6,
   "metadata": {},
   "outputs": [
    {
     "data": {
      "text/html": [
       "<div>\n",
       "<style scoped>\n",
       "    .dataframe tbody tr th:only-of-type {\n",
       "        vertical-align: middle;\n",
       "    }\n",
       "\n",
       "    .dataframe tbody tr th {\n",
       "        vertical-align: top;\n",
       "    }\n",
       "\n",
       "    .dataframe thead th {\n",
       "        text-align: right;\n",
       "    }\n",
       "</style>\n",
       "<table border=\"1\" class=\"dataframe\">\n",
       "  <thead>\n",
       "    <tr style=\"text-align: right;\">\n",
       "      <th></th>\n",
       "      <th>USER_ID</th>\n",
       "      <th>YOB</th>\n",
       "      <th>Gender</th>\n",
       "      <th>Income</th>\n",
       "      <th>HouseholdStatus</th>\n",
       "      <th>EducationLevel</th>\n",
       "      <th>Q124742</th>\n",
       "      <th>Q124122</th>\n",
       "      <th>Q123464</th>\n",
       "      <th>Q123621</th>\n",
       "      <th>...</th>\n",
       "      <th>Q99716</th>\n",
       "      <th>Q99581</th>\n",
       "      <th>Q99480</th>\n",
       "      <th>Q98869</th>\n",
       "      <th>Q98578</th>\n",
       "      <th>Q98059</th>\n",
       "      <th>Q98078</th>\n",
       "      <th>Q98197</th>\n",
       "      <th>Q96024</th>\n",
       "      <th>Party</th>\n",
       "    </tr>\n",
       "  </thead>\n",
       "  <tbody>\n",
       "    <tr>\n",
       "      <th>0</th>\n",
       "      <td>1295</td>\n",
       "      <td>1971</td>\n",
       "      <td>Female</td>\n",
       "      <td>$100,001 - $150,000</td>\n",
       "      <td>Married (w/kids)</td>\n",
       "      <td>Bachelor's Degree</td>\n",
       "      <td>NaN</td>\n",
       "      <td>Yes</td>\n",
       "      <td>No</td>\n",
       "      <td>No</td>\n",
       "      <td>...</td>\n",
       "      <td>No</td>\n",
       "      <td>No</td>\n",
       "      <td>Yes</td>\n",
       "      <td>No</td>\n",
       "      <td>No</td>\n",
       "      <td>Yes</td>\n",
       "      <td>No</td>\n",
       "      <td>No</td>\n",
       "      <td>Yes</td>\n",
       "      <td>Democrat</td>\n",
       "    </tr>\n",
       "    <tr>\n",
       "      <th>1</th>\n",
       "      <td>3324</td>\n",
       "      <td>1981</td>\n",
       "      <td>Female</td>\n",
       "      <td>$25,001 - $50,000</td>\n",
       "      <td>Married (w/kids)</td>\n",
       "      <td>Associate's Degree</td>\n",
       "      <td>NaN</td>\n",
       "      <td>NaN</td>\n",
       "      <td>NaN</td>\n",
       "      <td>NaN</td>\n",
       "      <td>...</td>\n",
       "      <td>No</td>\n",
       "      <td>No</td>\n",
       "      <td>Yes</td>\n",
       "      <td>NaN</td>\n",
       "      <td>No</td>\n",
       "      <td>Yes</td>\n",
       "      <td>NaN</td>\n",
       "      <td>Yes</td>\n",
       "      <td>No</td>\n",
       "      <td>Republican</td>\n",
       "    </tr>\n",
       "    <tr>\n",
       "      <th>2</th>\n",
       "      <td>6939</td>\n",
       "      <td>1999</td>\n",
       "      <td>Female</td>\n",
       "      <td>NaN</td>\n",
       "      <td>Single (no kids)</td>\n",
       "      <td>Current K-12</td>\n",
       "      <td>NaN</td>\n",
       "      <td>NaN</td>\n",
       "      <td>NaN</td>\n",
       "      <td>NaN</td>\n",
       "      <td>...</td>\n",
       "      <td>NaN</td>\n",
       "      <td>NaN</td>\n",
       "      <td>NaN</td>\n",
       "      <td>NaN</td>\n",
       "      <td>NaN</td>\n",
       "      <td>NaN</td>\n",
       "      <td>NaN</td>\n",
       "      <td>NaN</td>\n",
       "      <td>NaN</td>\n",
       "      <td>Democrat</td>\n",
       "    </tr>\n",
       "    <tr>\n",
       "      <th>3</th>\n",
       "      <td>1525</td>\n",
       "      <td>1997</td>\n",
       "      <td>Male</td>\n",
       "      <td>$75,000 - $100,000</td>\n",
       "      <td>Single (no kids)</td>\n",
       "      <td>Current K-12</td>\n",
       "      <td>NaN</td>\n",
       "      <td>NaN</td>\n",
       "      <td>NaN</td>\n",
       "      <td>NaN</td>\n",
       "      <td>...</td>\n",
       "      <td>No</td>\n",
       "      <td>Yes</td>\n",
       "      <td>No</td>\n",
       "      <td>No</td>\n",
       "      <td>No</td>\n",
       "      <td>Only-child</td>\n",
       "      <td>No</td>\n",
       "      <td>No</td>\n",
       "      <td>Yes</td>\n",
       "      <td>Democrat</td>\n",
       "    </tr>\n",
       "    <tr>\n",
       "      <th>4</th>\n",
       "      <td>3341</td>\n",
       "      <td>1977</td>\n",
       "      <td>Male</td>\n",
       "      <td>over $150,000</td>\n",
       "      <td>Married (w/kids)</td>\n",
       "      <td>Doctoral Degree</td>\n",
       "      <td>No</td>\n",
       "      <td>No</td>\n",
       "      <td>No</td>\n",
       "      <td>Yes</td>\n",
       "      <td>...</td>\n",
       "      <td>No</td>\n",
       "      <td>No</td>\n",
       "      <td>Yes</td>\n",
       "      <td>Yes</td>\n",
       "      <td>No</td>\n",
       "      <td>Yes</td>\n",
       "      <td>Yes</td>\n",
       "      <td>No</td>\n",
       "      <td>Yes</td>\n",
       "      <td>Democrat</td>\n",
       "    </tr>\n",
       "  </tbody>\n",
       "</table>\n",
       "<p>5 rows × 108 columns</p>\n",
       "</div>"
      ],
      "text/plain": [
       "  USER_ID   YOB  Gender               Income   HouseholdStatus  \\\n",
       "0    1295  1971  Female  $100,001 - $150,000  Married (w/kids)   \n",
       "1    3324  1981  Female    $25,001 - $50,000  Married (w/kids)   \n",
       "2    6939  1999  Female                  NaN  Single (no kids)   \n",
       "3    1525  1997    Male   $75,000 - $100,000  Single (no kids)   \n",
       "4    3341  1977    Male        over $150,000  Married (w/kids)   \n",
       "\n",
       "       EducationLevel Q124742 Q124122 Q123464 Q123621     ...     Q99716  \\\n",
       "0   Bachelor's Degree     NaN     Yes      No      No     ...         No   \n",
       "1  Associate's Degree     NaN     NaN     NaN     NaN     ...         No   \n",
       "2        Current K-12     NaN     NaN     NaN     NaN     ...        NaN   \n",
       "3        Current K-12     NaN     NaN     NaN     NaN     ...         No   \n",
       "4     Doctoral Degree      No      No      No     Yes     ...         No   \n",
       "\n",
       "  Q99581 Q99480 Q98869 Q98578      Q98059 Q98078 Q98197 Q96024       Party  \n",
       "0     No    Yes     No     No         Yes     No     No    Yes    Democrat  \n",
       "1     No    Yes    NaN     No         Yes    NaN    Yes     No  Republican  \n",
       "2    NaN    NaN    NaN    NaN         NaN    NaN    NaN    NaN    Democrat  \n",
       "3    Yes     No     No     No  Only-child     No     No    Yes    Democrat  \n",
       "4     No    Yes    Yes     No         Yes    Yes     No    Yes    Democrat  \n",
       "\n",
       "[5 rows x 108 columns]"
      ]
     },
     "execution_count": 6,
     "metadata": {},
     "output_type": "execute_result"
    }
   ],
   "source": [
    "dataset.head()\n",
    "validation.head()"
   ]
  },
  {
   "cell_type": "markdown",
   "metadata": {},
   "source": [
    "### Checking for null values"
   ]
  },
  {
   "cell_type": "code",
   "execution_count": 7,
   "metadata": {},
   "outputs": [
    {
     "data": {
      "text/plain": [
       "USER_ID               0\n",
       "YOB                 281\n",
       "Gender               98\n",
       "Income              885\n",
       "HouseholdStatus     389\n",
       "EducationLevel      735\n",
       "Q124742            2929\n",
       "Q124122            2092\n",
       "Q123464            1963\n",
       "Q123621            2027\n",
       "Q122769            1888\n",
       "Q122770            1770\n",
       "Q122771            1759\n",
       "Q122120            1741\n",
       "Q121699            1567\n",
       "Q121700            1596\n",
       "Q120978            1577\n",
       "Q121011            1545\n",
       "Q120379            1600\n",
       "Q120650            1540\n",
       "Q120472            1636\n",
       "Q120194            1757\n",
       "Q120012            1588\n",
       "Q120014            1726\n",
       "Q119334            1684\n",
       "Q119851            1521\n",
       "Q119650            1635\n",
       "Q118892            1508\n",
       "Q118117            1583\n",
       "Q118232            2039\n",
       "                   ... \n",
       "Q106388            1910\n",
       "Q106389            1959\n",
       "Q106042            1884\n",
       "Q105840            1961\n",
       "Q105655            1773\n",
       "Q104996            1798\n",
       "Q103293            1802\n",
       "Q102906            1904\n",
       "Q102674            1954\n",
       "Q102687            1844\n",
       "Q102289            1915\n",
       "Q102089            1862\n",
       "Q101162            1926\n",
       "Q101163            2037\n",
       "Q101596            1924\n",
       "Q100689            1746\n",
       "Q100680            1900\n",
       "Q100562            1899\n",
       "Q99982             1952\n",
       "Q100010            1827\n",
       "Q99716             1899\n",
       "Q99581             1836\n",
       "Q99480             1847\n",
       "Q98869             1972\n",
       "Q98578             1950\n",
       "Q98059             1797\n",
       "Q98078             1998\n",
       "Q98197             1925\n",
       "Q96024             1958\n",
       "Party                 0\n",
       "Length: 108, dtype: int64"
      ]
     },
     "execution_count": 7,
     "metadata": {},
     "output_type": "execute_result"
    }
   ],
   "source": [
    "# check for null values\n",
    "dataset.isnull().sum()"
   ]
  },
  {
   "cell_type": "markdown",
   "metadata": {},
   "source": [
    "Now, the questions answered decides the behaviour of the person which in turn decides if he is democratic or republic. So the null rows do not contribute much to the final results. Hence we remove them."
   ]
  },
  {
   "cell_type": "code",
   "execution_count": 8,
   "metadata": {},
   "outputs": [],
   "source": [
    "dataset=dataset.dropna(axis=0)\n",
    "validation=validation.dropna(axis=0)"
   ]
  },
  {
   "cell_type": "code",
   "execution_count": 9,
   "metadata": {},
   "outputs": [
    {
     "data": {
      "text/plain": [
       "USER_ID            0\n",
       "YOB                0\n",
       "Gender             0\n",
       "Income             0\n",
       "HouseholdStatus    0\n",
       "EducationLevel     0\n",
       "Q124742            0\n",
       "Q124122            0\n",
       "Q123464            0\n",
       "Q123621            0\n",
       "Q122769            0\n",
       "Q122770            0\n",
       "Q122771            0\n",
       "Q122120            0\n",
       "Q121699            0\n",
       "Q121700            0\n",
       "Q120978            0\n",
       "Q121011            0\n",
       "Q120379            0\n",
       "Q120650            0\n",
       "Q120472            0\n",
       "Q120194            0\n",
       "Q120012            0\n",
       "Q120014            0\n",
       "Q119334            0\n",
       "Q119851            0\n",
       "Q119650            0\n",
       "Q118892            0\n",
       "Q118117            0\n",
       "Q118232            0\n",
       "                  ..\n",
       "Q106388            0\n",
       "Q106389            0\n",
       "Q106042            0\n",
       "Q105840            0\n",
       "Q105655            0\n",
       "Q104996            0\n",
       "Q103293            0\n",
       "Q102906            0\n",
       "Q102674            0\n",
       "Q102687            0\n",
       "Q102289            0\n",
       "Q102089            0\n",
       "Q101162            0\n",
       "Q101163            0\n",
       "Q101596            0\n",
       "Q100689            0\n",
       "Q100680            0\n",
       "Q100562            0\n",
       "Q99982             0\n",
       "Q100010            0\n",
       "Q99716             0\n",
       "Q99581             0\n",
       "Q99480             0\n",
       "Q98869             0\n",
       "Q98578             0\n",
       "Q98059             0\n",
       "Q98078             0\n",
       "Q98197             0\n",
       "Q96024             0\n",
       "Party              0\n",
       "Length: 108, dtype: int64"
      ]
     },
     "execution_count": 9,
     "metadata": {},
     "output_type": "execute_result"
    }
   ],
   "source": [
    "# check for null values\n",
    "dataset.isnull().sum()\n",
    "validation.isnull().sum()"
   ]
  },
  {
   "cell_type": "markdown",
   "metadata": {},
   "source": [
    "Null values have been eliminated"
   ]
  },
  {
   "cell_type": "markdown",
   "metadata": {},
   "source": [
    "## Preprocessing "
   ]
  },
  {
   "cell_type": "code",
   "execution_count": 10,
   "metadata": {},
   "outputs": [
    {
     "name": "stdout",
     "output_type": "stream",
     "text": [
      "['over $150,000' 'under $25,000' '$100,001 - $150,000'\n",
      " '$75,000 - $100,000' '$50,000 - $74,999' '$25,001 - $50,000']\n"
     ]
    }
   ],
   "source": [
    "print(dataset['Income'].unique())"
   ]
  },
  {
   "cell_type": "code",
   "execution_count": 11,
   "metadata": {},
   "outputs": [],
   "source": [
    "inc={'$100,001 - $150,000':4, '$25,001 - $50,000':1,'$75,000 - $100,000':3,\n",
    " 'over $150,000':5, 'under $25,000':0, '$50,000 - $74,999':2}"
   ]
  },
  {
   "cell_type": "code",
   "execution_count": 12,
   "metadata": {},
   "outputs": [],
   "source": [
    "X = dataset.iloc[:, :-1].values\n",
    "y = dataset.iloc[:, 1].values"
   ]
  },
  {
   "cell_type": "code",
   "execution_count": 13,
   "metadata": {},
   "outputs": [],
   "source": [
    "dataset['Inc'] = [inc[item] for item in dataset.Income] \n",
    "validation['Inc'] = [inc[item] for item in dataset.Income] "
   ]
  },
  {
   "cell_type": "code",
   "execution_count": 14,
   "metadata": {},
   "outputs": [
    {
     "data": {
      "text/html": [
       "<div>\n",
       "<style scoped>\n",
       "    .dataframe tbody tr th:only-of-type {\n",
       "        vertical-align: middle;\n",
       "    }\n",
       "\n",
       "    .dataframe tbody tr th {\n",
       "        vertical-align: top;\n",
       "    }\n",
       "\n",
       "    .dataframe thead th {\n",
       "        text-align: right;\n",
       "    }\n",
       "</style>\n",
       "<table border=\"1\" class=\"dataframe\">\n",
       "  <thead>\n",
       "    <tr style=\"text-align: right;\">\n",
       "      <th></th>\n",
       "      <th>USER_ID</th>\n",
       "      <th>YOB</th>\n",
       "      <th>Gender</th>\n",
       "      <th>Income</th>\n",
       "      <th>HouseholdStatus</th>\n",
       "      <th>EducationLevel</th>\n",
       "      <th>Q124742</th>\n",
       "      <th>Q124122</th>\n",
       "      <th>Q123464</th>\n",
       "      <th>Q123621</th>\n",
       "      <th>...</th>\n",
       "      <th>Q99581</th>\n",
       "      <th>Q99480</th>\n",
       "      <th>Q98869</th>\n",
       "      <th>Q98578</th>\n",
       "      <th>Q98059</th>\n",
       "      <th>Q98078</th>\n",
       "      <th>Q98197</th>\n",
       "      <th>Q96024</th>\n",
       "      <th>Party</th>\n",
       "      <th>Inc</th>\n",
       "    </tr>\n",
       "  </thead>\n",
       "  <tbody>\n",
       "    <tr>\n",
       "      <th>4</th>\n",
       "      <td>3341</td>\n",
       "      <td>1977</td>\n",
       "      <td>Male</td>\n",
       "      <td>over $150,000</td>\n",
       "      <td>Married (w/kids)</td>\n",
       "      <td>Doctoral Degree</td>\n",
       "      <td>No</td>\n",
       "      <td>No</td>\n",
       "      <td>No</td>\n",
       "      <td>Yes</td>\n",
       "      <td>...</td>\n",
       "      <td>No</td>\n",
       "      <td>Yes</td>\n",
       "      <td>Yes</td>\n",
       "      <td>No</td>\n",
       "      <td>Yes</td>\n",
       "      <td>Yes</td>\n",
       "      <td>No</td>\n",
       "      <td>Yes</td>\n",
       "      <td>Democrat</td>\n",
       "      <td>5</td>\n",
       "    </tr>\n",
       "    <tr>\n",
       "      <th>31</th>\n",
       "      <td>3224</td>\n",
       "      <td>1992</td>\n",
       "      <td>Male</td>\n",
       "      <td>under $25,000</td>\n",
       "      <td>Single (no kids)</td>\n",
       "      <td>Current Undergraduate</td>\n",
       "      <td>No</td>\n",
       "      <td>No</td>\n",
       "      <td>No</td>\n",
       "      <td>No</td>\n",
       "      <td>...</td>\n",
       "      <td>No</td>\n",
       "      <td>Yes</td>\n",
       "      <td>Yes</td>\n",
       "      <td>No</td>\n",
       "      <td>Yes</td>\n",
       "      <td>No</td>\n",
       "      <td>No</td>\n",
       "      <td>Yes</td>\n",
       "      <td>Democrat</td>\n",
       "      <td>0</td>\n",
       "    </tr>\n",
       "    <tr>\n",
       "      <th>47</th>\n",
       "      <td>3584</td>\n",
       "      <td>1980</td>\n",
       "      <td>Male</td>\n",
       "      <td>$100,001 - $150,000</td>\n",
       "      <td>Married (w/kids)</td>\n",
       "      <td>Current Undergraduate</td>\n",
       "      <td>No</td>\n",
       "      <td>Yes</td>\n",
       "      <td>No</td>\n",
       "      <td>Yes</td>\n",
       "      <td>...</td>\n",
       "      <td>No</td>\n",
       "      <td>Yes</td>\n",
       "      <td>Yes</td>\n",
       "      <td>No</td>\n",
       "      <td>Yes</td>\n",
       "      <td>No</td>\n",
       "      <td>Yes</td>\n",
       "      <td>Yes</td>\n",
       "      <td>Republican</td>\n",
       "      <td>4</td>\n",
       "    </tr>\n",
       "    <tr>\n",
       "      <th>59</th>\n",
       "      <td>5077</td>\n",
       "      <td>1985</td>\n",
       "      <td>Male</td>\n",
       "      <td>$75,000 - $100,000</td>\n",
       "      <td>Single (w/kids)</td>\n",
       "      <td>Associate's Degree</td>\n",
       "      <td>Yes</td>\n",
       "      <td>Yes</td>\n",
       "      <td>No</td>\n",
       "      <td>Yes</td>\n",
       "      <td>...</td>\n",
       "      <td>No</td>\n",
       "      <td>Yes</td>\n",
       "      <td>No</td>\n",
       "      <td>No</td>\n",
       "      <td>Yes</td>\n",
       "      <td>No</td>\n",
       "      <td>No</td>\n",
       "      <td>Yes</td>\n",
       "      <td>Republican</td>\n",
       "      <td>3</td>\n",
       "    </tr>\n",
       "    <tr>\n",
       "      <th>63</th>\n",
       "      <td>520</td>\n",
       "      <td>1972</td>\n",
       "      <td>Female</td>\n",
       "      <td>under $25,000</td>\n",
       "      <td>Single (no kids)</td>\n",
       "      <td>Bachelor's Degree</td>\n",
       "      <td>No</td>\n",
       "      <td>No</td>\n",
       "      <td>No</td>\n",
       "      <td>No</td>\n",
       "      <td>...</td>\n",
       "      <td>No</td>\n",
       "      <td>Yes</td>\n",
       "      <td>Yes</td>\n",
       "      <td>Yes</td>\n",
       "      <td>Yes</td>\n",
       "      <td>No</td>\n",
       "      <td>Yes</td>\n",
       "      <td>Yes</td>\n",
       "      <td>Republican</td>\n",
       "      <td>0</td>\n",
       "    </tr>\n",
       "  </tbody>\n",
       "</table>\n",
       "<p>5 rows × 109 columns</p>\n",
       "</div>"
      ],
      "text/plain": [
       "   USER_ID   YOB  Gender               Income   HouseholdStatus  \\\n",
       "4     3341  1977    Male        over $150,000  Married (w/kids)   \n",
       "31    3224  1992    Male        under $25,000  Single (no kids)   \n",
       "47    3584  1980    Male  $100,001 - $150,000  Married (w/kids)   \n",
       "59    5077  1985    Male   $75,000 - $100,000   Single (w/kids)   \n",
       "63     520  1972  Female        under $25,000  Single (no kids)   \n",
       "\n",
       "           EducationLevel Q124742 Q124122 Q123464 Q123621 ... Q99581 Q99480  \\\n",
       "4         Doctoral Degree      No      No      No     Yes ...     No    Yes   \n",
       "31  Current Undergraduate      No      No      No      No ...     No    Yes   \n",
       "47  Current Undergraduate      No     Yes      No     Yes ...     No    Yes   \n",
       "59     Associate's Degree     Yes     Yes      No     Yes ...     No    Yes   \n",
       "63      Bachelor's Degree      No      No      No      No ...     No    Yes   \n",
       "\n",
       "   Q98869 Q98578 Q98059 Q98078 Q98197 Q96024       Party Inc  \n",
       "4     Yes     No    Yes    Yes     No    Yes    Democrat   5  \n",
       "31    Yes     No    Yes     No     No    Yes    Democrat   0  \n",
       "47    Yes     No    Yes     No    Yes    Yes  Republican   4  \n",
       "59     No     No    Yes     No     No    Yes  Republican   3  \n",
       "63    Yes    Yes    Yes     No    Yes    Yes  Republican   0  \n",
       "\n",
       "[5 rows x 109 columns]"
      ]
     },
     "execution_count": 14,
     "metadata": {},
     "output_type": "execute_result"
    }
   ],
   "source": [
    "dataset.head()"
   ]
  },
  {
   "cell_type": "code",
   "execution_count": 15,
   "metadata": {},
   "outputs": [
    {
     "data": {
      "text/plain": [
       "(593, 109)"
      ]
     },
     "execution_count": 15,
     "metadata": {},
     "output_type": "execute_result"
    }
   ],
   "source": [
    "dataset.shape\n",
    "validation.shape"
   ]
  },
  {
   "cell_type": "markdown",
   "metadata": {},
   "source": [
    "## EDA\n"
   ]
  },
  {
   "cell_type": "markdown",
   "metadata": {},
   "source": [
    "### Not very unbalanced data"
   ]
  },
  {
   "cell_type": "code",
   "execution_count": 16,
   "metadata": {},
   "outputs": [
    {
     "data": {
      "image/png": "[encoded data removed]",
      "text/plain": [
       "<Figure size 864x432 with 2 Axes>"
      ]
     },
     "metadata": {
      "needs_background": "light"
     },
     "output_type": "display_data"
    }
   ],
   "source": [
    "f,ax=plt.subplots(1,2,figsize=(12,6))\n",
    "dataset['Party'].value_counts().plot.pie(explode=[0,0.1],autopct='%1.1f%%',ax=ax[0],shadow=True)\n",
    "ax[0].set_title('Party')\n",
    "ax[0].set_ylabel('')\n",
    "sns.countplot('Party',data=dataset,ax=ax[1])\n",
    "ax[1].set_title('Party')\n",
    "plt.show()"
   ]
  },
  {
   "cell_type": "code",
   "execution_count": 17,
   "metadata": {},
   "outputs": [
    {
     "data": {
      "image/png": "[encoded data removed]",
      "text/plain": [
       "<Figure size 864x432 with 2 Axes>"
      ]
     },
     "metadata": {
      "needs_background": "light"
     },
     "output_type": "display_data"
    }
   ],
   "source": [
    "f,ax=plt.subplots(1,2,figsize=(12,6))\n",
    "dataset['Income'].value_counts().plot.bar(color=['#CD7F32','#FFDF00','#D3D3D3','red', 'blue', 'green'],ax=ax[0])\n",
    "ax[0].set_title('Income category')\n",
    "ax[0].set_ylabel('Count')\n",
    "sns.countplot('Income',hue='Party',data=dataset,ax=ax[1])\n",
    "ax[1].set_title('Income vs  party')\n",
    "ax[1].set_xticklabels(ax[1].get_xticklabels(), rotation=40, ha=\"right\")\n",
    "plt.show()"
   ]
  },
  {
   "cell_type": "code",
   "execution_count": 18,
   "metadata": {},
   "outputs": [
    {
     "data": {
      "image/png": "[encoded data removed]",
      "text/plain": [
       "<Figure size 864x432 with 2 Axes>"
      ]
     },
     "metadata": {
      "needs_background": "light"
     },
     "output_type": "display_data"
    }
   ],
   "source": [
    "f,ax=plt.subplots(1,2,figsize=(12,6))\n",
    "dataset['EducationLevel'].value_counts().plot.bar(color=['#CD7F32','#FFDF00','#D3D3D3','red', 'blue', 'green'],ax=ax[0])\n",
    "ax[0].set_title('EducationLevel')\n",
    "ax[0].set_ylabel('Count')\n",
    "sns.countplot('EducationLevel',hue='Party',data=dataset,ax=ax[1])\n",
    "ax[1].set_title('EducationLevel vs  party')\n",
    "ax[1].set_xticklabels(ax[1].get_xticklabels(), rotation=40, ha=\"right\")\n",
    "plt.show()"
   ]
  },
  {
   "cell_type": "markdown",
   "metadata": {},
   "source": [
    "## Encoding the answers"
   ]
  },
  {
   "cell_type": "code",
   "execution_count": 19,
   "metadata": {},
   "outputs": [],
   "source": [
    "from sklearn.preprocessing import LabelEncoder\n",
    "\n",
    "lb_make = LabelEncoder()\n",
    "columns = list(dataset)\n",
    "\n",
    "for i in range(len(columns)):\n",
    "    if i >= 6 and i < 107:\n",
    "        \n",
    "\n",
    "        dataset[columns[i]] = dataset[columns[i]].fillna(0)\n",
    "        validation[columns[i]] = validation[columns[i]].fillna(0)\n",
    "        list1 = list(dataset[columns[i]].unique())\n",
    "        if 0 in list1:\n",
    "            list1.remove(0)\n",
    "        a,b = list1\n",
    "        dataset[columns[i]] = dataset[columns[i]].map( {a: 0, b: 1, 0: 2} ).astype(int)\n",
    "        validation[columns[i]] = validation[columns[i]].map( {a: 0, b: 1, 0: 2} ).astype(int)\n",
    "        \n",
    "\n",
    "    \n",
    "lb_make = LabelEncoder()\n",
    "lb_make.fit(dataset['EducationLevel'].unique())\n",
    "dataset['EducationLevel'] = lb_make.transform(dataset['EducationLevel'])\n",
    "validation['EducationLevel']= lb_make.transform(validation['EducationLevel'])"
   ]
  },
  {
   "cell_type": "code",
   "execution_count": 20,
   "metadata": {},
   "outputs": [
    {
     "data": {
      "image/png": "[encoded data removed]",
      "text/plain": [
       "<Figure size 454.975x360 with 6 Axes>"
      ]
     },
     "metadata": {},
     "output_type": "display_data"
    }
   ],
   "source": [
    "import seaborn as sns; \n",
    "sns.set(style=\"ticks\", color_codes=True)\n",
    "g = sns.pairplot(dataset,hue=\"Party\",vars=[\"EducationLevel\", \"Inc\"])"
   ]
  },
  {
   "cell_type": "markdown",
   "metadata": {},
   "source": [
    "## Income and Education are highly correlated"
   ]
  },
  {
   "cell_type": "code",
   "execution_count": 21,
   "metadata": {},
   "outputs": [],
   "source": [
    "dataset=dataset.drop(columns=['Income'])\n",
    "validation=validation.drop(columns=['Income'])\n"
   ]
  },
  {
   "cell_type": "code",
   "execution_count": 22,
   "metadata": {},
   "outputs": [],
   "source": [
    "from sklearn.preprocessing import LabelEncoder\n",
    "lb_make = LabelEncoder()\n",
    "\n",
    "lb_make.fit(dataset['Party'].unique())\n",
    "dataset['Party'] = lb_make.transform(dataset['Party'])\n",
    "validation['Party']= lb_make.transform(validation['Party'])\n",
    "\n",
    "lb_make = LabelEncoder()\n",
    "lb_make.fit(['Male','Female'])\n",
    "dataset['Gender'] = lb_make.transform(dataset['Gender'])\n",
    "validation['Gender']= lb_make.transform(validation['Gender'])\n",
    "lb_make = LabelEncoder()\n",
    "lb_make.fit(dataset['HouseholdStatus'].unique())\n",
    "dataset['HouseholdStatus'] = lb_make.transform(dataset['HouseholdStatus'])\n",
    "validation['HouseholdStatus']= lb_make.transform(validation['HouseholdStatus'])\n",
    "\n"
   ]
  },
  {
   "cell_type": "code",
   "execution_count": 23,
   "metadata": {
    "scrolled": true
   },
   "outputs": [
    {
     "data": {
      "text/html": [
       "<div>\n",
       "<style scoped>\n",
       "    .dataframe tbody tr th:only-of-type {\n",
       "        vertical-align: middle;\n",
       "    }\n",
       "\n",
       "    .dataframe tbody tr th {\n",
       "        vertical-align: top;\n",
       "    }\n",
       "\n",
       "    .dataframe thead th {\n",
       "        text-align: right;\n",
       "    }\n",
       "</style>\n",
       "<table border=\"1\" class=\"dataframe\">\n",
       "  <thead>\n",
       "    <tr style=\"text-align: right;\">\n",
       "      <th></th>\n",
       "      <th>USER_ID</th>\n",
       "      <th>YOB</th>\n",
       "      <th>Gender</th>\n",
       "      <th>HouseholdStatus</th>\n",
       "      <th>EducationLevel</th>\n",
       "      <th>Q124742</th>\n",
       "      <th>Q124122</th>\n",
       "      <th>Q123464</th>\n",
       "      <th>Q123621</th>\n",
       "      <th>Q122769</th>\n",
       "      <th>...</th>\n",
       "      <th>Q99581</th>\n",
       "      <th>Q99480</th>\n",
       "      <th>Q98869</th>\n",
       "      <th>Q98578</th>\n",
       "      <th>Q98059</th>\n",
       "      <th>Q98078</th>\n",
       "      <th>Q98197</th>\n",
       "      <th>Q96024</th>\n",
       "      <th>Party</th>\n",
       "      <th>Inc</th>\n",
       "    </tr>\n",
       "  </thead>\n",
       "  <tbody>\n",
       "    <tr>\n",
       "      <th>4</th>\n",
       "      <td>3341</td>\n",
       "      <td>1977</td>\n",
       "      <td>1</td>\n",
       "      <td>3</td>\n",
       "      <td>4</td>\n",
       "      <td>0</td>\n",
       "      <td>0</td>\n",
       "      <td>0</td>\n",
       "      <td>0</td>\n",
       "      <td>0</td>\n",
       "      <td>...</td>\n",
       "      <td>0</td>\n",
       "      <td>0</td>\n",
       "      <td>0</td>\n",
       "      <td>0</td>\n",
       "      <td>0</td>\n",
       "      <td>0</td>\n",
       "      <td>0</td>\n",
       "      <td>0</td>\n",
       "      <td>0</td>\n",
       "      <td>5</td>\n",
       "    </tr>\n",
       "    <tr>\n",
       "      <th>31</th>\n",
       "      <td>3224</td>\n",
       "      <td>1992</td>\n",
       "      <td>1</td>\n",
       "      <td>4</td>\n",
       "      <td>3</td>\n",
       "      <td>0</td>\n",
       "      <td>0</td>\n",
       "      <td>0</td>\n",
       "      <td>1</td>\n",
       "      <td>1</td>\n",
       "      <td>...</td>\n",
       "      <td>0</td>\n",
       "      <td>0</td>\n",
       "      <td>0</td>\n",
       "      <td>0</td>\n",
       "      <td>0</td>\n",
       "      <td>1</td>\n",
       "      <td>0</td>\n",
       "      <td>0</td>\n",
       "      <td>0</td>\n",
       "      <td>0</td>\n",
       "    </tr>\n",
       "    <tr>\n",
       "      <th>47</th>\n",
       "      <td>3584</td>\n",
       "      <td>1980</td>\n",
       "      <td>1</td>\n",
       "      <td>3</td>\n",
       "      <td>3</td>\n",
       "      <td>0</td>\n",
       "      <td>1</td>\n",
       "      <td>0</td>\n",
       "      <td>0</td>\n",
       "      <td>0</td>\n",
       "      <td>...</td>\n",
       "      <td>0</td>\n",
       "      <td>0</td>\n",
       "      <td>0</td>\n",
       "      <td>0</td>\n",
       "      <td>0</td>\n",
       "      <td>1</td>\n",
       "      <td>1</td>\n",
       "      <td>0</td>\n",
       "      <td>1</td>\n",
       "      <td>4</td>\n",
       "    </tr>\n",
       "    <tr>\n",
       "      <th>59</th>\n",
       "      <td>5077</td>\n",
       "      <td>1985</td>\n",
       "      <td>1</td>\n",
       "      <td>5</td>\n",
       "      <td>0</td>\n",
       "      <td>1</td>\n",
       "      <td>1</td>\n",
       "      <td>0</td>\n",
       "      <td>0</td>\n",
       "      <td>0</td>\n",
       "      <td>...</td>\n",
       "      <td>0</td>\n",
       "      <td>0</td>\n",
       "      <td>1</td>\n",
       "      <td>0</td>\n",
       "      <td>0</td>\n",
       "      <td>1</td>\n",
       "      <td>0</td>\n",
       "      <td>0</td>\n",
       "      <td>1</td>\n",
       "      <td>3</td>\n",
       "    </tr>\n",
       "    <tr>\n",
       "      <th>63</th>\n",
       "      <td>520</td>\n",
       "      <td>1972</td>\n",
       "      <td>0</td>\n",
       "      <td>4</td>\n",
       "      <td>1</td>\n",
       "      <td>0</td>\n",
       "      <td>0</td>\n",
       "      <td>0</td>\n",
       "      <td>1</td>\n",
       "      <td>1</td>\n",
       "      <td>...</td>\n",
       "      <td>0</td>\n",
       "      <td>0</td>\n",
       "      <td>0</td>\n",
       "      <td>1</td>\n",
       "      <td>0</td>\n",
       "      <td>1</td>\n",
       "      <td>1</td>\n",
       "      <td>0</td>\n",
       "      <td>1</td>\n",
       "      <td>0</td>\n",
       "    </tr>\n",
       "  </tbody>\n",
       "</table>\n",
       "<p>5 rows × 108 columns</p>\n",
       "</div>"
      ],
      "text/plain": [
       "   USER_ID   YOB  Gender  HouseholdStatus  EducationLevel  Q124742  Q124122  \\\n",
       "4     3341  1977       1                3               4        0        0   \n",
       "31    3224  1992       1                4               3        0        0   \n",
       "47    3584  1980       1                3               3        0        1   \n",
       "59    5077  1985       1                5               0        1        1   \n",
       "63     520  1972       0                4               1        0        0   \n",
       "\n",
       "    Q123464  Q123621  Q122769 ...   Q99581  Q99480  Q98869  Q98578  Q98059  \\\n",
       "4         0        0        0 ...        0       0       0       0       0   \n",
       "31        0        1        1 ...        0       0       0       0       0   \n",
       "47        0        0        0 ...        0       0       0       0       0   \n",
       "59        0        0        0 ...        0       0       1       0       0   \n",
       "63        0        1        1 ...        0       0       0       1       0   \n",
       "\n",
       "    Q98078  Q98197  Q96024  Party  Inc  \n",
       "4        0       0       0      0    5  \n",
       "31       1       0       0      0    0  \n",
       "47       1       1       0      1    4  \n",
       "59       1       0       0      1    3  \n",
       "63       1       1       0      1    0  \n",
       "\n",
       "[5 rows x 108 columns]"
      ]
     },
     "execution_count": 23,
     "metadata": {},
     "output_type": "execute_result"
    }
   ],
   "source": [
    "dataset.head()"
   ]
  },
  {
   "cell_type": "markdown",
   "metadata": {},
   "source": [
    "Democrat = 0\n",
    "Republican = 1"
   ]
  },
  {
   "cell_type": "code",
   "execution_count": 24,
   "metadata": {},
   "outputs": [],
   "source": [
    "y_train=dataset['Party']\n",
    "y_val=dataset['Party']\n",
    "dataset=dataset.drop(columns=['Party','YOB'])\n",
    "validation=validation.drop(columns=['Party','YOB'])\n",
    "x_train=dataset\n",
    "x_val=validation"
   ]
  },
  {
   "cell_type": "markdown",
   "metadata": {},
   "source": [
    "We can now make modelels on balanced data"
   ]
  },
  {
   "cell_type": "markdown",
   "metadata": {},
   "source": [
    "### Logistic regression"
   ]
  },
  {
   "cell_type": "code",
   "execution_count": 25,
   "metadata": {},
   "outputs": [
    {
     "data": {
      "text/plain": [
       "LogisticRegression(C=1.0, class_weight=None, dual=False, fit_intercept=True,\n",
       "          intercept_scaling=1, max_iter=100, multi_class='warn',\n",
       "          n_jobs=None, penalty='l2', random_state=None, solver='warn',\n",
       "          tol=0.0001, verbose=0, warm_start=False)"
      ]
     },
     "execution_count": 25,
     "metadata": {},
     "output_type": "execute_result"
    }
   ],
   "source": [
    "from sklearn.linear_model import LogisticRegression\n",
    "\n",
    "clf = LogisticRegression(fit_intercept=True)\n",
    "clf.fit(x_train, y_train)"
   ]
  },
  {
   "cell_type": "code",
   "execution_count": 26,
   "metadata": {},
   "outputs": [],
   "source": [
    "y_pred=clf.predict(x_val)"
   ]
  },
  {
   "cell_type": "code",
   "execution_count": 27,
   "metadata": {},
   "outputs": [],
   "source": [
    "from sklearn.metrics import confusion_matrix\n",
    "from sklearn.metrics import precision_score\n",
    "from sklearn.metrics import f1_score, accuracy_score"
   ]
  },
  {
   "cell_type": "code",
   "execution_count": 28,
   "metadata": {},
   "outputs": [
    {
     "name": "stdout",
     "output_type": "stream",
     "text": [
      "0.33558178752107926 0.16020236087689713 0.1163575042158516 0.38785834738617203\n",
      "specificity: 0.6768707482993197\n",
      "sensitivity: 0.7692307692307693\n",
      "accuracy_score: 0.7234401349072512\n",
      "precision_score: 0.7076923076923077\n",
      "f1_score: 0.7371794871794873\n"
     ]
    }
   ],
   "source": [
    "f1=f1_score(y_val, y_pred)\n",
    "acc=accuracy_score(y_val, y_pred)\n",
    "tn, fp, fn, tp = confusion_matrix(y_val, y_pred).ravel()\n",
    "t=tp+tn+fn+fp\n",
    "pr=precision_score(y_val, y_pred)\n",
    "print(tn/t, fp/t, fn/t, tp/t)\n",
    "print(\"specificity: \"+str(tn/(tn+fp)))\n",
    "print(\"sensitivity: \"+str(tp/(tp+fn)))\n",
    "print(\"accuracy_score:\",acc)\n",
    "print(\"precision_score:\",pr)\n",
    "print(\"f1_score:\",f1)"
   ]
  },
  {
   "cell_type": "markdown",
   "metadata": {},
   "source": [
    "## Random Forest"
   ]
  },
  {
   "cell_type": "code",
   "execution_count": 29,
   "metadata": {},
   "outputs": [],
   "source": [
    "from sklearn.ensemble import RandomForestClassifier\n",
    "from sklearn.model_selection import RandomizedSearchCV\n",
    "from sklearn.metrics import confusion_matrix, recall_score, precision_score"
   ]
  },
  {
   "cell_type": "code",
   "execution_count": 30,
   "metadata": {},
   "outputs": [
    {
     "name": "stdout",
     "output_type": "stream",
     "text": [
      "{'n_estimators': array([ 3,  5,  7,  9, 11, 13, 15, 17, 19, 21, 23]), 'max_depth': array([1, 2, 3, 4]), 'criterion': ['gini', 'entropy'], 'min_samples_split': array([2, 3, 4, 5]), 'min_samples_leaf': array([2, 3, 4, 5]), 'random_state': [1337]}\n"
     ]
    }
   ],
   "source": [
    "# Declare key parameters of classifier as Iterables\n",
    "\n",
    "n_estimators = np.arange(3,25,2)\n",
    "max_depth = np.arange(1,5,1)\n",
    "criterion = ['gini', 'entropy']\n",
    "min_samples_split = np.arange(2,6,1)\n",
    "min_samples_leaf = np.arange(2,6,1)\n",
    "random_state = [1337]\n",
    "\n",
    "# Create the random grid\n",
    "random_grid = {'n_estimators': n_estimators,\n",
    "               'max_depth': max_depth, \n",
    "               'criterion': criterion,\n",
    "               'min_samples_split': min_samples_split,\n",
    "               'min_samples_leaf': min_samples_leaf,\n",
    "               'random_state': random_state}\n",
    "\n",
    "print(random_grid)"
   ]
  },
  {
   "cell_type": "code",
   "execution_count": 31,
   "metadata": {},
   "outputs": [],
   "source": [
    "# Create Base Model for tuning\n",
    "rf = RandomForestClassifier()\n",
    "\n",
    "# Instantiate Random Search of Parameters using 3 fold cross validation\n",
    "rf_random = RandomizedSearchCV(estimator=rf,\n",
    "                               param_distributions=random_grid, \n",
    "                               n_iter=10, \n",
    "                               cv=4, \n",
    "                               random_state=137)"
   ]
  },
  {
   "cell_type": "code",
   "execution_count": 32,
   "metadata": {},
   "outputs": [
    {
     "name": "stdout",
     "output_type": "stream",
     "text": [
      "Done\n"
     ]
    },
    {
     "name": "stderr",
     "output_type": "stream",
     "text": [
      "C:\\Users\\JigDhwani\\Anaconda3\\lib\\site-packages\\sklearn\\model_selection\\_search.py:841: DeprecationWarning: The default of the `iid` parameter will change from True to False in version 0.22 and will be removed in 0.24. This will change numeric results when test-set sizes are unequal.\n",
      "  DeprecationWarning)\n"
     ]
    }
   ],
   "source": [
    "# Execute training (Fit the random search model)\n",
    "\n",
    "rf_random.fit(x_train, y_train) \n",
    "print('Done')"
   ]
  },
  {
   "cell_type": "code",
   "execution_count": 33,
   "metadata": {},
   "outputs": [
    {
     "data": {
      "text/plain": [
       "{'random_state': 1337,\n",
       " 'n_estimators': 15,\n",
       " 'min_samples_split': 3,\n",
       " 'min_samples_leaf': 3,\n",
       " 'max_depth': 4,\n",
       " 'criterion': 'gini'}"
      ]
     },
     "execution_count": 33,
     "metadata": {},
     "output_type": "execute_result"
    }
   ],
   "source": [
    "rf_random.best_params_"
   ]
  },
  {
   "cell_type": "code",
   "execution_count": 34,
   "metadata": {},
   "outputs": [],
   "source": [
    "best_rf = rf_random.best_estimator_"
   ]
  },
  {
   "cell_type": "code",
   "execution_count": 35,
   "metadata": {},
   "outputs": [
    {
     "name": "stdout",
     "output_type": "stream",
     "text": [
      "Accuracy: 0.7672849915682968\n",
      "Precision: 0.7402985074626866\n",
      "Recall: 0.8294314381270903\n"
     ]
    }
   ],
   "source": [
    "predictions = list(best_rf.predict(x_val))\n",
    "\n",
    "print('Accuracy:', best_rf.score(x_val, y_val))\n",
    "print('Precision:', precision_score(list(y_val), predictions))\n",
    "print('Recall:', recall_score(list(y_val), predictions))"
   ]
  },
  {
   "cell_type": "markdown",
   "metadata": {},
   "source": [
    "## Decision Tree"
   ]
  },
  {
   "cell_type": "code",
   "execution_count": 36,
   "metadata": {},
   "outputs": [
    {
     "data": {
      "text/plain": [
       "DecisionTreeClassifier(class_weight=None, criterion='entropy', max_depth=None,\n",
       "            max_features=None, max_leaf_nodes=None,\n",
       "            min_impurity_decrease=0.0, min_impurity_split=None,\n",
       "            min_samples_leaf=1, min_samples_split=2,\n",
       "            min_weight_fraction_leaf=0.0, presort=False, random_state=0,\n",
       "            splitter='best')"
      ]
     },
     "execution_count": 36,
     "metadata": {},
     "output_type": "execute_result"
    }
   ],
   "source": [
    "from sklearn.tree import DecisionTreeClassifier\n",
    "classifier = DecisionTreeClassifier(criterion = 'entropy', random_state = 0)\n",
    "classifier.fit(x_train, y_train)"
   ]
  },
  {
   "cell_type": "code",
   "execution_count": 37,
   "metadata": {},
   "outputs": [
    {
     "name": "stdout",
     "output_type": "stream",
     "text": [
      "[[294   0]\n",
      " [  0 299]]\n"
     ]
    }
   ],
   "source": [
    "y_pred = classifier.predict(x_val)\n",
    "\n",
    "# Making the Confusion Matrix\n",
    "from sklearn.metrics import confusion_matrix\n",
    "cm = confusion_matrix(y_val, y_pred)\n",
    "print(cm)"
   ]
  },
  {
   "cell_type": "code",
   "execution_count": 38,
   "metadata": {},
   "outputs": [
    {
     "name": "stdout",
     "output_type": "stream",
     "text": [
      "0.4957841483979764 0.0 0.0 0.5042158516020236\n",
      "specificity: 1.0\n",
      "sensitivity: 1.0\n",
      "accuracy_score: 1.0\n",
      "precision_score: 1.0\n",
      "f1_score: 1.0\n"
     ]
    }
   ],
   "source": [
    "f1=f1_score(y_val, y_pred)\n",
    "acc=accuracy_score(y_val, y_pred)\n",
    "tn, fp, fn, tp = confusion_matrix(y_val, y_pred).ravel()\n",
    "t=tp+tn+fn+fp\n",
    "pr=precision_score(y_val, y_pred)\n",
    "print(tn/t, fp/t, fn/t, tp/t)\n",
    "print(\"specificity: \"+str(tn/(tn+fp)))\n",
    "print(\"sensitivity: \"+str(tp/(tp+fn)))\n",
    "print(\"accuracy_score:\",acc)\n",
    "print(\"precision_score:\",pr)\n",
    "print(\"f1_score:\",f1)"
   ]
  },
  {
   "cell_type": "markdown",
   "metadata": {},
   "source": [
    "## SVC"
   ]
  },
  {
   "cell_type": "code",
   "execution_count": 39,
   "metadata": {},
   "outputs": [
    {
     "name": "stdout",
     "output_type": "stream",
     "text": [
      "0.45193929173693087 0.04384485666104553 0.01854974704890388 0.4856661045531197\n",
      "specificity: 0.9115646258503401\n",
      "sensitivity: 0.9632107023411371\n",
      "accuracy_score: 0.9376053962900506\n",
      "precision_score: 0.9171974522292994\n",
      "f1_score: 0.9396411092985318\n"
     ]
    }
   ],
   "source": [
    "from sklearn.svm import SVC\n",
    "classifier = SVC(kernel = 'rbf', random_state = 0)\n",
    "classifier.fit(x_train, y_train)\n",
    "\n",
    "# Predicting the Test set results\n",
    "y_pred = classifier.predict(x_val)\n",
    "\n",
    "# Making the Confusion Matrix\n",
    "from sklearn.metrics import confusion_matrix\n",
    "cm = confusion_matrix(y_val, y_pred)\n",
    "f1=f1_score(y_val, y_pred)\n",
    "acc=accuracy_score(y_val, y_pred)\n",
    "tn, fp, fn, tp = confusion_matrix(y_val, y_pred).ravel()\n",
    "t=tp+tn+fn+fp\n",
    "pr=precision_score(y_val, y_pred)\n",
    "print(tn/t, fp/t, fn/t, tp/t)\n",
    "print(\"specificity: \"+str(tn/(tn+fp)))\n",
    "print(\"sensitivity: \"+str(tp/(tp+fn)))\n",
    "print(\"accuracy_score:\",acc)\n",
    "print(\"precision_score:\",pr)\n",
    "print(\"f1_score:\",f1)"
   ]
  },
  {
   "cell_type": "markdown",
   "metadata": {},
   "source": [
    "# Conclusions"
   ]
  },
  {
   "cell_type": "markdown",
   "metadata": {},
   "source": [
    "| MEtrics   |      Logistic      |  RandomF | Decision Tree | SVC |\n",
    "|----------|:-------------:|------:|---:|---:|\n",
    "|Accuracy | 0.7234401349072512| 0.7672849915682968 | 1.0 | 0.9376053962900506 |\n",
    "| Precision |  0.7076923076923077   |   0.7402985074626866 | 1.0 |  0.9171974522292994 |\n",
    "| Recall | 0.7692307692307693 |0.8294314381270903| 1.0 | 0.9632107023411371 |\n"
   ]
  },
  {
   "cell_type": "markdown",
   "metadata": {},
   "source": [
    "Here we see that Decision tree overfits\n",
    "The F1 score of random forest will be better than other models used (Compared to Logistic regression and decision tree that overfits )\n",
    "Hence we say that random forest performs better.\n",
    "SVC - Support vector Classifier uses rbf kernal that helps make data linear. Its performs the best from all the other models (evident from its precision and recall, their weighted average will be better)"
   ]
  }
 ],
 "metadata": {
  "kernelspec": {
   "display_name": "Python 3",
   "language": "python",
   "name": "python3"
  },
  "language_info": {
   "codemirror_mode": {
    "name": "ipython",
    "version": 3
   },
   "file_extension": ".py",
   "mimetype": "text/x-python",
   "name": "python",
   "nbconvert_exporter": "python",
   "pygments_lexer": "ipython3",
   "version": "3.7.1"
  }
 },
 "nbformat": 4,
 "nbformat_minor": 2
}
